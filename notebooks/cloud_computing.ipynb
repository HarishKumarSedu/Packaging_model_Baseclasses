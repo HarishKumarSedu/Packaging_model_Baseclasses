{
 "cells": [
  {
   "cell_type": "code",
   "execution_count": 1,
   "metadata": {},
   "outputs": [
    {
     "data": {
      "text/plain": [
       "'c:\\\\Users\\\\smlab\\\\Documents\\\\Harish\\\\ml\\\\mlOPS\\\\my-project\\\\Packaging_model_Baseclasses'"
      ]
     },
     "execution_count": 1,
     "metadata": {},
     "output_type": "execute_result"
    }
   ],
   "source": [
    "import os \n",
    "os.chdir('..')\n",
    "os.getcwd()"
   ]
  },
  {
   "cell_type": "code",
   "execution_count": 2,
   "metadata": {},
   "outputs": [
    {
     "name": "stdout",
     "output_type": "stream",
     "text": [
      "KMeans cluster fit in 0.25327420234680176\n",
      "KMeans cluster fit in 0.06086897850036621\n",
      "KMeans cluster fit in 0.05247998237609863\n",
      "KMeans cluster fit in 0.08900189399719238\n",
      "KMeans cluster fit in 0.049646854400634766\n",
      "KMeans cluster fit in 0.051000356674194336\n",
      "KMeans cluster fit in 0.04898548126220703\n",
      "KMeans cluster fit in 0.048793792724609375\n",
      "KMeans cluster fit in 0.04569268226623535\n",
      "KMeans cluster fit in 0.04796910285949707\n",
      "KMeans cluster fit in 0.04803204536437988\n",
      "KMeans cluster fit in 0.04600262641906738\n",
      "KMeans cluster fit in 0.054147958755493164\n",
      "KMeans cluster fit in 0.04635763168334961\n",
      "KMeans cluster fit in 0.04494452476501465\n",
      "KMeans cluster fit in 0.050997018814086914\n",
      "KMeans cluster fit in 0.04600048065185547\n",
      "KMeans cluster fit in 0.04303240776062012\n",
      "KMeans cluster fit in 0.05000042915344238\n",
      "KMeans cluster fit in 0.04820823669433594\n",
      "Performed 20 KMeans in total time: 2.4360134601593018\n"
     ]
    }
   ],
   "source": [
    "from sklearn.datasets._samples_generator import make_blobs\n",
    "from sklearn.cluster import KMeans\n",
    "import time \n",
    "\n",
    "def do_kmeans():\n",
    "    \"\"\"KMeans clustering on generated data\"\"\"\n",
    "    X,_ = make_blobs(n_samples=100000, centers=3, n_features=10,random_state=0)\n",
    "    kmeans = KMeans(n_clusters=3)\n",
    "    t0 = time.time()\n",
    "    kmeans.fit(X)\n",
    "    print(f\"KMeans cluster fit in {time.time()-t0}\")\n",
    "def main():\n",
    "    \"\"\"Run Everything\"\"\"\n",
    "    count = 20\n",
    "    t0 = time.time()\n",
    "    for _ in range(count):\n",
    "        do_kmeans()\n",
    "    print(f\"Performed {count} KMeans in total time: {time.time()-t0}\")\n",
    "\n",
    "if __name__ == \"__main__\":\n",
    "    main()"
   ]
  }
 ],
 "metadata": {
  "kernelspec": {
   "display_name": "env",
   "language": "python",
   "name": "python3"
  },
  "language_info": {
   "codemirror_mode": {
    "name": "ipython",
    "version": 3
   },
   "file_extension": ".py",
   "mimetype": "text/x-python",
   "name": "python",
   "nbconvert_exporter": "python",
   "pygments_lexer": "ipython3",
   "version": "3.11.3"
  }
 },
 "nbformat": 4,
 "nbformat_minor": 2
}
